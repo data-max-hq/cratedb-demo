{
 "cells": [
  {
   "cell_type": "code",
   "execution_count": 1,
   "metadata": {},
   "outputs": [],
   "source": [
    "import pandas as pd\n",
    "import json"
   ]
  },
  {
   "cell_type": "code",
   "execution_count": 5,
   "metadata": {},
   "outputs": [
    {
     "data": {
      "text/html": [
       "<div>\n",
       "<style scoped>\n",
       "    .dataframe tbody tr th:only-of-type {\n",
       "        vertical-align: middle;\n",
       "    }\n",
       "\n",
       "    .dataframe tbody tr th {\n",
       "        vertical-align: top;\n",
       "    }\n",
       "\n",
       "    .dataframe thead th {\n",
       "        text-align: right;\n",
       "    }\n",
       "</style>\n",
       "<table border=\"1\" class=\"dataframe\">\n",
       "  <thead>\n",
       "    <tr style=\"text-align: right;\">\n",
       "      <th></th>\n",
       "      <th>object_id</th>\n",
       "      <th>geometry</th>\n",
       "    </tr>\n",
       "  </thead>\n",
       "  <tbody>\n",
       "    <tr>\n",
       "      <th>0</th>\n",
       "      <td>433366</td>\n",
       "      <td>{'type': 'Point', 'coordinates': [-109.8598116...</td>\n",
       "    </tr>\n",
       "    <tr>\n",
       "      <th>1</th>\n",
       "      <td>433367</td>\n",
       "      <td>{'type': 'Point', 'coordinates': [-110.7613119...</td>\n",
       "    </tr>\n",
       "    <tr>\n",
       "      <th>2</th>\n",
       "      <td>433369</td>\n",
       "      <td>{'type': 'Point', 'coordinates': [-110.9309118...</td>\n",
       "    </tr>\n",
       "    <tr>\n",
       "      <th>3</th>\n",
       "      <td>434919</td>\n",
       "      <td>{'type': 'Point', 'coordinates': [-105.4872348...</td>\n",
       "    </tr>\n",
       "    <tr>\n",
       "      <th>4</th>\n",
       "      <td>434606</td>\n",
       "      <td>{'type': 'Point', 'coordinates': [-86.74583515...</td>\n",
       "    </tr>\n",
       "    <tr>\n",
       "      <th>...</th>\n",
       "      <td>...</td>\n",
       "      <td>...</td>\n",
       "    </tr>\n",
       "    <tr>\n",
       "      <th>1335</th>\n",
       "      <td>435581</td>\n",
       "      <td>{'type': 'Point', 'coordinates': [-94.04417365...</td>\n",
       "    </tr>\n",
       "    <tr>\n",
       "      <th>1336</th>\n",
       "      <td>435589</td>\n",
       "      <td>{'type': 'Point', 'coordinates': [-120.5060049...</td>\n",
       "    </tr>\n",
       "    <tr>\n",
       "      <th>1337</th>\n",
       "      <td>435595</td>\n",
       "      <td>{'type': 'Point', 'coordinates': [-120.9731801...</td>\n",
       "    </tr>\n",
       "    <tr>\n",
       "      <th>1338</th>\n",
       "      <td>435598</td>\n",
       "      <td>{'type': 'Point', 'coordinates': [-118.1205122...</td>\n",
       "    </tr>\n",
       "    <tr>\n",
       "      <th>1339</th>\n",
       "      <td>435611</td>\n",
       "      <td>{'type': 'Point', 'coordinates': [-93.12072347...</td>\n",
       "    </tr>\n",
       "  </tbody>\n",
       "</table>\n",
       "<p>1340 rows × 2 columns</p>\n",
       "</div>"
      ],
      "text/plain": [
       "      object_id                                           geometry\n",
       "0        433366  {'type': 'Point', 'coordinates': [-109.8598116...\n",
       "1        433367  {'type': 'Point', 'coordinates': [-110.7613119...\n",
       "2        433369  {'type': 'Point', 'coordinates': [-110.9309118...\n",
       "3        434919  {'type': 'Point', 'coordinates': [-105.4872348...\n",
       "4        434606  {'type': 'Point', 'coordinates': [-86.74583515...\n",
       "...         ...                                                ...\n",
       "1335     435581  {'type': 'Point', 'coordinates': [-94.04417365...\n",
       "1336     435589  {'type': 'Point', 'coordinates': [-120.5060049...\n",
       "1337     435595  {'type': 'Point', 'coordinates': [-120.9731801...\n",
       "1338     435598  {'type': 'Point', 'coordinates': [-118.1205122...\n",
       "1339     435611  {'type': 'Point', 'coordinates': [-93.12072347...\n",
       "\n",
       "[1340 rows x 2 columns]"
      ]
     },
     "execution_count": 5,
     "metadata": {},
     "output_type": "execute_result"
    }
   ],
   "source": [
    "columns = ['OBJECTID', 'geometry']\n",
    "data = []\n",
    "\n",
    "data = []\n",
    "columns = ['OBJECTID', 'geometry']\n",
    "\n",
    "with open('/Users/sindiziu/Desktop/cratedb-demo/data/wfigs.geojson', 'r') as f:\n",
    "    geojson = json.load(f)\n",
    "    for feature in geojson['features']:\n",
    "        properties = feature['properties']\n",
    "        geometry = feature['geometry']\n",
    "        if 'OBJECTID' in properties:\n",
    "            lst = [properties['OBJECTID'], geometry]\n",
    "            data.append(lst)\n",
    "        else:\n",
    "            print(f\"Missing OBJECTID in feature: {feature}\")\n",
    "\n",
    "df = pd.DataFrame(data=data, columns=columns)\n",
    "\n",
    "df = df.rename(columns={'OBJECTID': 'object_id'})    \n",
    "\n",
    "df"
   ]
  },
  {
   "cell_type": "code",
   "execution_count": 6,
   "metadata": {},
   "outputs": [
    {
     "name": "stdout",
     "output_type": "stream",
     "text": [
      "INSERT INTO wfigs (object_id, geometry) VALUES (%s, %s)\n"
     ]
    }
   ],
   "source": [
    "columns_str = \", \".join(df.columns)\n",
    "    \n",
    "placeholders = \", \".join([\"%s\"] * len(columns))\n",
    "\n",
    "sql_query = f\"INSERT INTO wfigs ({columns_str}) VALUES ({placeholders})\"\n",
    "\n",
    "print(sql_query)"
   ]
  },
  {
   "cell_type": "code",
   "execution_count": null,
   "metadata": {},
   "outputs": [],
   "source": []
  }
 ],
 "metadata": {
  "kernelspec": {
   "display_name": "venv",
   "language": "python",
   "name": "python3"
  },
  "language_info": {
   "codemirror_mode": {
    "name": "ipython",
    "version": 3
   },
   "file_extension": ".py",
   "mimetype": "text/x-python",
   "name": "python",
   "nbconvert_exporter": "python",
   "pygments_lexer": "ipython3",
   "version": "3.13.1"
  }
 },
 "nbformat": 4,
 "nbformat_minor": 2
}
